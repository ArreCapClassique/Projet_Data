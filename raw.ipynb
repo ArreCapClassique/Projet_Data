{
 "cells": [
  {
   "cell_type": "code",
   "execution_count": 2,
   "id": "8dc31069",
   "metadata": {},
   "outputs": [],
   "source": [
    "import duckdb\n",
    "\n",
    "def set_attr(con):\n",
    "    con.execute(\"SET max_memory='8GB';\")\n",
    "    con.execute(\"SET threads=4;\")\n",
    "    con.execute(\"SET enable_progress_bar=1;\")\n",
    "    con.execute(\"SET temp_directory = 'C:/Projet/tmp/';\")\n",
    "    con.execute(\"SET disable_parquet_prefetching = TRUE;\")\n",
    "    con.execute(\"SET parquet_metadata_cache = TRUE;\")\n",
    "\n",
    "def transform_csv(con):\n",
    "    con.execute(\"CREATE SCHEMA IF NOT EXISTS raw;\")\n",
    "\n",
    "    for i in range(1, 13):\n",
    "        csv_path = f\"C:/DUCK/Projet_Data/Raw_data/A2024{i:02d}.csv.gz\"\n",
    "        parquet_path = f\"C:/DUCK/Projet_Data/Raw_data/A2024{i:02d}.parquet\"\n",
    "        con.execute(f\"\"\"\n",
    "            COPY (\n",
    "                SELECT * FROM read_csv_auto('{csv_path}')\n",
    "            ) TO '{parquet_path}' (FORMAT PARQUET);\n",
    "        \"\"\")\n",
    "\n",
    "\n",
    "def load_parquet(con):\n",
    "    con.execute(\"CREATE SCHEMA IF NOT EXISTS raw;\")\n",
    "    for i in range(1, 13):\n",
    "        try:\n",
    "            con.execute(f\"\"\"\n",
    "                CREATE TABLE IF NOT EXISTS raw.A2024{i:02d} AS\n",
    "                SELECT * FROM read_parquet('C:/DUCK/Projet_Data/Raw_data/A2024{i:02d}.parquet');\n",
    "            \"\"\")\n",
    "            print(f\"[✔] Successfully loaded A2024{i:02d}.parquet\")\n",
    "        except Exception as e:\n",
    "            print(f\"[✘] Failed to load A2024{i:02d}.parquet: {e}\")\n",
    "\n",
    "\n",
    "def stage(con):\n",
    "    con.execute(\"CREATE SCHEMA IF NOT EXISTS stg;\")\n",
    "    columns = \"\"\"FLT_DEP_MNT mnt_depassement,\n",
    "\tFLT_PAI_MNT mnt_pay,\n",
    "\tFLT_REM_MNT mnt_rem,\n",
    "\tSOI_ANN ann_soin,\n",
    "\tSOI_MOI mois_soin,\n",
    "\tAGE_BEN_SNDS age,\n",
    "\tBEN_RES_REG region_ben,\n",
    "\tBEN_SEX_COD sexe,\n",
    "\tASU_NAT nat_assurance,\n",
    "\tCPT_ENV_TYP type_envlp,\n",
    "\tDRG_AFF_NAT nat_destinataire,\n",
    "    PRS_FJH_TYP forfait_journalier,\n",
    "\tPRS_PPU_SEC code_secteur,\n",
    "\tPRS_REM_TAU taux_remb,\n",
    "\tPRS_REM_TYP type_remb\"\"\"\n",
    "\n",
    "    union_sql_parts = []\n",
    "\n",
    "    for i in range(1, 13):\n",
    "        union_sql_parts.append(f\"\"\"\n",
    "            SELECT {columns}\n",
    "            FROM raw.A2024{i:02d}\n",
    "        \"\"\")\n",
    "    union_sql = \"\\nUNION ALL\\n\".join(union_sql_parts)\n",
    "    print(union_sql)\n",
    "    \"\"\"\n",
    "    try:\n",
    "        con.execute(f\n",
    "            CREATE OR REPLACE TABLE stg.transactions AS\n",
    "            {union_sql};\n",
    "        )\n",
    "        print(\"[✔] Successfully created stg.transactions\")\n",
    "    except Exception as e:\n",
    "        print(f\"[✘] Failed to create stg.transactions: {e}\")\"\"\"\n",
    "    \"\"\"\n",
    "    for i in range(1, 13):\n",
    "        try:\n",
    "            con.execute(f\"DROP TABLE IF EXISTS raw.A2024{i:02d};\")\n",
    "            print(f\"[✔] Successfully deleted raw.A2024{i:02d}\")\n",
    "        except Exception as e:\n",
    "            print(f\"[✘] Failed to delete raw.A2024{i:02d}: {e}\")\"\"\"\n",
    "\n",
    "def transform(con):\n",
    "    with open('type_donnee.sql', 'r') as file:\n",
    "        sql_script = file.read()\n",
    "        try:\n",
    "            con.execute(sql_script)\n",
    "            print(f\"[✔] Successfully created stg.transactions_libelles\")\n",
    "        except Exception as e:\n",
    "            print(f\"[✘] Failed to create stg.transactions_libelles: {e}\")\n",
    "        \n",
    "def dwh(con):\n",
    "    with open('3. dwh.sql', 'r') as file:\n",
    "        sql_script = file.read()\n",
    "        try:\n",
    "            con.execute(sql_script)\n",
    "            print(f\"[✔] Successfully created dwh\")\n",
    "        except Exception as e:\n",
    "            print(f\"[✘] Failed to create dwh: {e}\")\n",
    "    "
   ]
  },
  {
   "cell_type": "code",
   "execution_count": null,
   "id": "bf2575b9",
   "metadata": {},
   "outputs": [
    {
     "data": {
      "application/vnd.jupyter.widget-view+json": {
       "model_id": "1ff80ed2069549c9ac2b9ccd87a4ef22",
       "version_major": 2,
       "version_minor": 0
      },
      "text/plain": [
       "FloatProgress(value=0.0, layout=Layout(width='auto'), style=ProgressStyle(bar_color='black'))"
      ]
     },
     "metadata": {},
     "output_type": "display_data"
    },
    {
     "name": "stdout",
     "output_type": "stream",
     "text": [
      "[✔] Successfully loaded A202401.parquet\n"
     ]
    },
    {
     "data": {
      "application/vnd.jupyter.widget-view+json": {
       "model_id": "219852e35cf9437bb5d17171a313504e",
       "version_major": 2,
       "version_minor": 0
      },
      "text/plain": [
       "FloatProgress(value=0.0, layout=Layout(width='auto'), style=ProgressStyle(bar_color='black'))"
      ]
     },
     "metadata": {},
     "output_type": "display_data"
    },
    {
     "name": "stdout",
     "output_type": "stream",
     "text": [
      "[✔] Successfully loaded A202402.parquet\n"
     ]
    },
    {
     "data": {
      "application/vnd.jupyter.widget-view+json": {
       "model_id": "ba2e1136a89c4a5b8536c8529c8a1c2c",
       "version_major": 2,
       "version_minor": 0
      },
      "text/plain": [
       "FloatProgress(value=0.0, layout=Layout(width='auto'), style=ProgressStyle(bar_color='black'))"
      ]
     },
     "metadata": {},
     "output_type": "display_data"
    },
    {
     "name": "stdout",
     "output_type": "stream",
     "text": [
      "[✔] Successfully loaded A202403.parquet\n"
     ]
    },
    {
     "data": {
      "application/vnd.jupyter.widget-view+json": {
       "model_id": "f8c9ca2ddfd3439282004eae7b532ccf",
       "version_major": 2,
       "version_minor": 0
      },
      "text/plain": [
       "FloatProgress(value=0.0, layout=Layout(width='auto'), style=ProgressStyle(bar_color='black'))"
      ]
     },
     "metadata": {},
     "output_type": "display_data"
    },
    {
     "name": "stdout",
     "output_type": "stream",
     "text": [
      "[✔] Successfully loaded A202404.parquet\n"
     ]
    },
    {
     "data": {
      "application/vnd.jupyter.widget-view+json": {
       "model_id": "34c0d36f6ac44928bd59a6f2c86b0ec9",
       "version_major": 2,
       "version_minor": 0
      },
      "text/plain": [
       "FloatProgress(value=0.0, layout=Layout(width='auto'), style=ProgressStyle(bar_color='black'))"
      ]
     },
     "metadata": {},
     "output_type": "display_data"
    },
    {
     "name": "stdout",
     "output_type": "stream",
     "text": [
      "[✔] Successfully loaded A202405.parquet\n"
     ]
    },
    {
     "data": {
      "application/vnd.jupyter.widget-view+json": {
       "model_id": "62b77ee73bd04d0a8651b46136b6df8f",
       "version_major": 2,
       "version_minor": 0
      },
      "text/plain": [
       "FloatProgress(value=0.0, layout=Layout(width='auto'), style=ProgressStyle(bar_color='black'))"
      ]
     },
     "metadata": {},
     "output_type": "display_data"
    },
    {
     "name": "stdout",
     "output_type": "stream",
     "text": [
      "[✔] Successfully loaded A202406.parquet\n"
     ]
    },
    {
     "data": {
      "application/vnd.jupyter.widget-view+json": {
       "model_id": "98a79cd4222f47548d4454977f6fcfca",
       "version_major": 2,
       "version_minor": 0
      },
      "text/plain": [
       "FloatProgress(value=0.0, layout=Layout(width='auto'), style=ProgressStyle(bar_color='black'))"
      ]
     },
     "metadata": {},
     "output_type": "display_data"
    },
    {
     "name": "stdout",
     "output_type": "stream",
     "text": [
      "[✔] Successfully loaded A202407.parquet\n"
     ]
    },
    {
     "data": {
      "application/vnd.jupyter.widget-view+json": {
       "model_id": "309241d54f7e4c1ba5c45959e29eabf2",
       "version_major": 2,
       "version_minor": 0
      },
      "text/plain": [
       "FloatProgress(value=0.0, layout=Layout(width='auto'), style=ProgressStyle(bar_color='black'))"
      ]
     },
     "metadata": {},
     "output_type": "display_data"
    },
    {
     "name": "stdout",
     "output_type": "stream",
     "text": [
      "[✔] Successfully loaded A202408.parquet\n"
     ]
    },
    {
     "data": {
      "application/vnd.jupyter.widget-view+json": {
       "model_id": "30edb5625e334f55ad01840ef237274a",
       "version_major": 2,
       "version_minor": 0
      },
      "text/plain": [
       "FloatProgress(value=0.0, layout=Layout(width='auto'), style=ProgressStyle(bar_color='black'))"
      ]
     },
     "metadata": {},
     "output_type": "display_data"
    },
    {
     "name": "stdout",
     "output_type": "stream",
     "text": [
      "[✔] Successfully loaded A202409.parquet\n"
     ]
    },
    {
     "data": {
      "application/vnd.jupyter.widget-view+json": {
       "model_id": "35145bbd8ef1463691faa5989aa6ffbf",
       "version_major": 2,
       "version_minor": 0
      },
      "text/plain": [
       "FloatProgress(value=0.0, layout=Layout(width='auto'), style=ProgressStyle(bar_color='black'))"
      ]
     },
     "metadata": {},
     "output_type": "display_data"
    },
    {
     "name": "stdout",
     "output_type": "stream",
     "text": [
      "[✔] Successfully loaded A202410.parquet\n"
     ]
    },
    {
     "data": {
      "application/vnd.jupyter.widget-view+json": {
       "model_id": "40d09c787af8446bac7cf5a47c40668d",
       "version_major": 2,
       "version_minor": 0
      },
      "text/plain": [
       "FloatProgress(value=0.0, layout=Layout(width='auto'), style=ProgressStyle(bar_color='black'))"
      ]
     },
     "metadata": {},
     "output_type": "display_data"
    },
    {
     "name": "stdout",
     "output_type": "stream",
     "text": [
      "[✔] Successfully loaded A202411.parquet\n"
     ]
    },
    {
     "data": {
      "application/vnd.jupyter.widget-view+json": {
       "model_id": "bfa211eea62947d5a208677ea9790e31",
       "version_major": 2,
       "version_minor": 0
      },
      "text/plain": [
       "FloatProgress(value=0.0, layout=Layout(width='auto'), style=ProgressStyle(bar_color='black'))"
      ]
     },
     "metadata": {},
     "output_type": "display_data"
    },
    {
     "name": "stdout",
     "output_type": "stream",
     "text": [
      "[✔] Successfully loaded A202412.parquet\n"
     ]
    }
   ],
   "source": [
    "with duckdb.connect(\"projet.db\") as con:\n",
    "    set_attr(con)\n",
    "    # transform_csv(con)\n",
    "    load_parquet(con)"
   ]
  },
  {
   "cell_type": "code",
   "execution_count": 5,
   "id": "0753b9ec",
   "metadata": {},
   "outputs": [
    {
     "name": "stdout",
     "output_type": "stream",
     "text": [
      "\n",
      "            SELECT FLT_DEP_MNT mnt_depassement,\n",
      "\tFLT_PAI_MNT mnt_pay,\n",
      "\tFLT_REM_MNT mnt_rem,\n",
      "\tSOI_ANN ann_soin,\n",
      "\tSOI_MOI mois_soin,\n",
      "\tAGE_BEN_SNDS age,\n",
      "\tBEN_RES_REG region_ben,\n",
      "\tBEN_SEX_COD sexe,\n",
      "\tASU_NAT nat_assurance,\n",
      "    CPL_COD compl_acte,\n",
      "\tCPT_ENV_TYP type_envlp,\n",
      "\tDRG_AFF_NAT nat_destinataire,\n",
      "    PRS_FJH_TYP forfait_journalier,\n",
      "\tPRS_PPU_SEC code_secteur,\n",
      "\tPRS_REM_TAU taux_remb,\n",
      "\tPRS_REM_TYP type_remb\n",
      "            FROM raw.A202401\n",
      "        \n",
      "UNION ALL\n",
      "\n",
      "            SELECT FLT_DEP_MNT mnt_depassement,\n",
      "\tFLT_PAI_MNT mnt_pay,\n",
      "\tFLT_REM_MNT mnt_rem,\n",
      "\tSOI_ANN ann_soin,\n",
      "\tSOI_MOI mois_soin,\n",
      "\tAGE_BEN_SNDS age,\n",
      "\tBEN_RES_REG region_ben,\n",
      "\tBEN_SEX_COD sexe,\n",
      "\tASU_NAT nat_assurance,\n",
      "    CPL_COD compl_acte,\n",
      "\tCPT_ENV_TYP type_envlp,\n",
      "\tDRG_AFF_NAT nat_destinataire,\n",
      "    PRS_FJH_TYP forfait_journalier,\n",
      "\tPRS_PPU_SEC code_secteur,\n",
      "\tPRS_REM_TAU taux_remb,\n",
      "\tPRS_REM_TYP type_remb\n",
      "            FROM raw.A202402\n",
      "        \n",
      "UNION ALL\n",
      "\n",
      "            SELECT FLT_DEP_MNT mnt_depassement,\n",
      "\tFLT_PAI_MNT mnt_pay,\n",
      "\tFLT_REM_MNT mnt_rem,\n",
      "\tSOI_ANN ann_soin,\n",
      "\tSOI_MOI mois_soin,\n",
      "\tAGE_BEN_SNDS age,\n",
      "\tBEN_RES_REG region_ben,\n",
      "\tBEN_SEX_COD sexe,\n",
      "\tASU_NAT nat_assurance,\n",
      "    CPL_COD compl_acte,\n",
      "\tCPT_ENV_TYP type_envlp,\n",
      "\tDRG_AFF_NAT nat_destinataire,\n",
      "    PRS_FJH_TYP forfait_journalier,\n",
      "\tPRS_PPU_SEC code_secteur,\n",
      "\tPRS_REM_TAU taux_remb,\n",
      "\tPRS_REM_TYP type_remb\n",
      "            FROM raw.A202403\n",
      "        \n",
      "UNION ALL\n",
      "\n",
      "            SELECT FLT_DEP_MNT mnt_depassement,\n",
      "\tFLT_PAI_MNT mnt_pay,\n",
      "\tFLT_REM_MNT mnt_rem,\n",
      "\tSOI_ANN ann_soin,\n",
      "\tSOI_MOI mois_soin,\n",
      "\tAGE_BEN_SNDS age,\n",
      "\tBEN_RES_REG region_ben,\n",
      "\tBEN_SEX_COD sexe,\n",
      "\tASU_NAT nat_assurance,\n",
      "    CPL_COD compl_acte,\n",
      "\tCPT_ENV_TYP type_envlp,\n",
      "\tDRG_AFF_NAT nat_destinataire,\n",
      "    PRS_FJH_TYP forfait_journalier,\n",
      "\tPRS_PPU_SEC code_secteur,\n",
      "\tPRS_REM_TAU taux_remb,\n",
      "\tPRS_REM_TYP type_remb\n",
      "            FROM raw.A202404\n",
      "        \n",
      "UNION ALL\n",
      "\n",
      "            SELECT FLT_DEP_MNT mnt_depassement,\n",
      "\tFLT_PAI_MNT mnt_pay,\n",
      "\tFLT_REM_MNT mnt_rem,\n",
      "\tSOI_ANN ann_soin,\n",
      "\tSOI_MOI mois_soin,\n",
      "\tAGE_BEN_SNDS age,\n",
      "\tBEN_RES_REG region_ben,\n",
      "\tBEN_SEX_COD sexe,\n",
      "\tASU_NAT nat_assurance,\n",
      "    CPL_COD compl_acte,\n",
      "\tCPT_ENV_TYP type_envlp,\n",
      "\tDRG_AFF_NAT nat_destinataire,\n",
      "    PRS_FJH_TYP forfait_journalier,\n",
      "\tPRS_PPU_SEC code_secteur,\n",
      "\tPRS_REM_TAU taux_remb,\n",
      "\tPRS_REM_TYP type_remb\n",
      "            FROM raw.A202405\n",
      "        \n",
      "UNION ALL\n",
      "\n",
      "            SELECT FLT_DEP_MNT mnt_depassement,\n",
      "\tFLT_PAI_MNT mnt_pay,\n",
      "\tFLT_REM_MNT mnt_rem,\n",
      "\tSOI_ANN ann_soin,\n",
      "\tSOI_MOI mois_soin,\n",
      "\tAGE_BEN_SNDS age,\n",
      "\tBEN_RES_REG region_ben,\n",
      "\tBEN_SEX_COD sexe,\n",
      "\tASU_NAT nat_assurance,\n",
      "    CPL_COD compl_acte,\n",
      "\tCPT_ENV_TYP type_envlp,\n",
      "\tDRG_AFF_NAT nat_destinataire,\n",
      "    PRS_FJH_TYP forfait_journalier,\n",
      "\tPRS_PPU_SEC code_secteur,\n",
      "\tPRS_REM_TAU taux_remb,\n",
      "\tPRS_REM_TYP type_remb\n",
      "            FROM raw.A202406\n",
      "        \n",
      "UNION ALL\n",
      "\n",
      "            SELECT FLT_DEP_MNT mnt_depassement,\n",
      "\tFLT_PAI_MNT mnt_pay,\n",
      "\tFLT_REM_MNT mnt_rem,\n",
      "\tSOI_ANN ann_soin,\n",
      "\tSOI_MOI mois_soin,\n",
      "\tAGE_BEN_SNDS age,\n",
      "\tBEN_RES_REG region_ben,\n",
      "\tBEN_SEX_COD sexe,\n",
      "\tASU_NAT nat_assurance,\n",
      "    CPL_COD compl_acte,\n",
      "\tCPT_ENV_TYP type_envlp,\n",
      "\tDRG_AFF_NAT nat_destinataire,\n",
      "    PRS_FJH_TYP forfait_journalier,\n",
      "\tPRS_PPU_SEC code_secteur,\n",
      "\tPRS_REM_TAU taux_remb,\n",
      "\tPRS_REM_TYP type_remb\n",
      "            FROM raw.A202407\n",
      "        \n",
      "UNION ALL\n",
      "\n",
      "            SELECT FLT_DEP_MNT mnt_depassement,\n",
      "\tFLT_PAI_MNT mnt_pay,\n",
      "\tFLT_REM_MNT mnt_rem,\n",
      "\tSOI_ANN ann_soin,\n",
      "\tSOI_MOI mois_soin,\n",
      "\tAGE_BEN_SNDS age,\n",
      "\tBEN_RES_REG region_ben,\n",
      "\tBEN_SEX_COD sexe,\n",
      "\tASU_NAT nat_assurance,\n",
      "    CPL_COD compl_acte,\n",
      "\tCPT_ENV_TYP type_envlp,\n",
      "\tDRG_AFF_NAT nat_destinataire,\n",
      "    PRS_FJH_TYP forfait_journalier,\n",
      "\tPRS_PPU_SEC code_secteur,\n",
      "\tPRS_REM_TAU taux_remb,\n",
      "\tPRS_REM_TYP type_remb\n",
      "            FROM raw.A202408\n",
      "        \n",
      "UNION ALL\n",
      "\n",
      "            SELECT FLT_DEP_MNT mnt_depassement,\n",
      "\tFLT_PAI_MNT mnt_pay,\n",
      "\tFLT_REM_MNT mnt_rem,\n",
      "\tSOI_ANN ann_soin,\n",
      "\tSOI_MOI mois_soin,\n",
      "\tAGE_BEN_SNDS age,\n",
      "\tBEN_RES_REG region_ben,\n",
      "\tBEN_SEX_COD sexe,\n",
      "\tASU_NAT nat_assurance,\n",
      "    CPL_COD compl_acte,\n",
      "\tCPT_ENV_TYP type_envlp,\n",
      "\tDRG_AFF_NAT nat_destinataire,\n",
      "    PRS_FJH_TYP forfait_journalier,\n",
      "\tPRS_PPU_SEC code_secteur,\n",
      "\tPRS_REM_TAU taux_remb,\n",
      "\tPRS_REM_TYP type_remb\n",
      "            FROM raw.A202409\n",
      "        \n",
      "UNION ALL\n",
      "\n",
      "            SELECT FLT_DEP_MNT mnt_depassement,\n",
      "\tFLT_PAI_MNT mnt_pay,\n",
      "\tFLT_REM_MNT mnt_rem,\n",
      "\tSOI_ANN ann_soin,\n",
      "\tSOI_MOI mois_soin,\n",
      "\tAGE_BEN_SNDS age,\n",
      "\tBEN_RES_REG region_ben,\n",
      "\tBEN_SEX_COD sexe,\n",
      "\tASU_NAT nat_assurance,\n",
      "    CPL_COD compl_acte,\n",
      "\tCPT_ENV_TYP type_envlp,\n",
      "\tDRG_AFF_NAT nat_destinataire,\n",
      "    PRS_FJH_TYP forfait_journalier,\n",
      "\tPRS_PPU_SEC code_secteur,\n",
      "\tPRS_REM_TAU taux_remb,\n",
      "\tPRS_REM_TYP type_remb\n",
      "            FROM raw.A202410\n",
      "        \n",
      "UNION ALL\n",
      "\n",
      "            SELECT FLT_DEP_MNT mnt_depassement,\n",
      "\tFLT_PAI_MNT mnt_pay,\n",
      "\tFLT_REM_MNT mnt_rem,\n",
      "\tSOI_ANN ann_soin,\n",
      "\tSOI_MOI mois_soin,\n",
      "\tAGE_BEN_SNDS age,\n",
      "\tBEN_RES_REG region_ben,\n",
      "\tBEN_SEX_COD sexe,\n",
      "\tASU_NAT nat_assurance,\n",
      "    CPL_COD compl_acte,\n",
      "\tCPT_ENV_TYP type_envlp,\n",
      "\tDRG_AFF_NAT nat_destinataire,\n",
      "    PRS_FJH_TYP forfait_journalier,\n",
      "\tPRS_PPU_SEC code_secteur,\n",
      "\tPRS_REM_TAU taux_remb,\n",
      "\tPRS_REM_TYP type_remb\n",
      "            FROM raw.A202411\n",
      "        \n",
      "UNION ALL\n",
      "\n",
      "            SELECT FLT_DEP_MNT mnt_depassement,\n",
      "\tFLT_PAI_MNT mnt_pay,\n",
      "\tFLT_REM_MNT mnt_rem,\n",
      "\tSOI_ANN ann_soin,\n",
      "\tSOI_MOI mois_soin,\n",
      "\tAGE_BEN_SNDS age,\n",
      "\tBEN_RES_REG region_ben,\n",
      "\tBEN_SEX_COD sexe,\n",
      "\tASU_NAT nat_assurance,\n",
      "    CPL_COD compl_acte,\n",
      "\tCPT_ENV_TYP type_envlp,\n",
      "\tDRG_AFF_NAT nat_destinataire,\n",
      "    PRS_FJH_TYP forfait_journalier,\n",
      "\tPRS_PPU_SEC code_secteur,\n",
      "\tPRS_REM_TAU taux_remb,\n",
      "\tPRS_REM_TYP type_remb\n",
      "            FROM raw.A202412\n",
      "        \n"
     ]
    }
   ],
   "source": [
    "with duckdb.connect(\"projet.db\") as con:\n",
    "    set_attr(con)\n",
    "    stage(con)"
   ]
  },
  {
   "cell_type": "code",
   "execution_count": 10,
   "id": "b0fce681",
   "metadata": {},
   "outputs": [
    {
     "data": {
      "application/vnd.jupyter.widget-view+json": {
       "model_id": "ae0fbc3f5c8b448dabca0aadcdcfd39d",
       "version_major": 2,
       "version_minor": 0
      },
      "text/plain": [
       "FloatProgress(value=0.0, layout=Layout(width='auto'), style=ProgressStyle(bar_color='black'))"
      ]
     },
     "metadata": {},
     "output_type": "display_data"
    },
    {
     "name": "stdout",
     "output_type": "stream",
     "text": [
      "[✔] Successfully created stg.transactions_libelles\n"
     ]
    }
   ],
   "source": [
    "with duckdb.connect(\"projet.db\") as con:\n",
    "    set_attr(con)\n",
    "    transform(con)"
   ]
  },
  {
   "cell_type": "code",
   "execution_count": null,
   "id": "92e9eb7b",
   "metadata": {},
   "outputs": [
    {
     "data": {
      "application/vnd.jupyter.widget-view+json": {
       "model_id": "12ee229911ee4ebcad51b9399bbc4877",
       "version_major": 2,
       "version_minor": 0
      },
      "text/plain": [
       "FloatProgress(value=0.0, layout=Layout(width='auto'), style=ProgressStyle(bar_color='black'))"
      ]
     },
     "metadata": {},
     "output_type": "display_data"
    }
   ],
   "source": [
    "with duckdb.connect(\"projet.db\") as con:\n",
    "    set_attr(con)\n",
    "    dwh(con)"
   ]
  },
  {
   "cell_type": "code",
   "execution_count": 3,
   "id": "4b353010",
   "metadata": {},
   "outputs": [],
   "source": [
    "con = duckdb.connect(\"projet.db\")\n",
    "con.close()"
   ]
  }
 ],
 "metadata": {
  "kernelspec": {
   "display_name": "Python 3",
   "language": "python",
   "name": "python3"
  },
  "language_info": {
   "codemirror_mode": {
    "name": "ipython",
    "version": 3
   },
   "file_extension": ".py",
   "mimetype": "text/x-python",
   "name": "python",
   "nbconvert_exporter": "python",
   "pygments_lexer": "ipython3",
   "version": "3.13.2"
  }
 },
 "nbformat": 4,
 "nbformat_minor": 5
}
