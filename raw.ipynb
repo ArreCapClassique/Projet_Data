{
 "cells": [
  {
   "cell_type": "code",
   "execution_count": null,
   "id": "8dc31069",
   "metadata": {},
   "outputs": [],
   "source": [
    "import duckdb\n",
    "\n",
    "\n",
    "def transform_csv(con):\n",
    "    con.execute(\"CREATE SCHEMA IF NOT EXISTS raw;\")\n",
    "\n",
    "    for i in range(1, 13):\n",
    "        csv_path = f\"C:/Projet/Raw_data/A2024{i:02d}.csv.gz\"\n",
    "        parquet_path = f\"C:/Projet/Raw_data/A2024{i:02d}.parquet\"\n",
    "        con.execute(f\"\"\"\n",
    "            COPY (\n",
    "                SELECT * FROM read_csv_auto('{csv_path}')\n",
    "            ) TO '{parquet_path}' (FORMAT PARQUET);\n",
    "        \"\"\")\n",
    "\n",
    "\n",
    "def load_parquet(con):\n",
    "    con.execute(\"CREATE SCHEMA IF NOT EXISTS raw;\")\n",
    "    for i in range(1, 13):\n",
    "        try:\n",
    "            con.execute(f\"\"\"\n",
    "                CREATE TABLE IF NOT EXISTS raw.A2024{i:02d} AS\n",
    "                SELECT * FROM read_parquet('C:/Projet/Raw_data/A2024{i:02d}.parquet');\n",
    "            \"\"\")\n",
    "            print(f\"[✔] Successfully loaded A2024{i:02d}.parquet\")\n",
    "        except Exception as e:\n",
    "            print(f\"[✘] Failed to load A2024{i:02d}.parquet: {e}\")\n",
    "\n",
    "\n",
    "def stage(con):\n",
    "    con.execute(\"CREATE SCHEMA IF NOT EXISTS stg;\")\n",
    "    columns = \"\"\"FLT_DEP_MNT mnt_depassement,\n",
    "\tFLT_PAI_MNT mnt_pay,\n",
    "\tFLT_REM_MNT mnt_rem,\n",
    "\tSOI_ANN ann_soin,\n",
    "\tSOI_MOI mois_soin,\n",
    "\tAGE_BEN_SNDS age,\n",
    "\tBEN_RES_REG region_ben,\n",
    "\tBEN_SEX_COD sexe,\n",
    "\tMTM_NAT ticket_mod,\n",
    "\tASU_NAT nat_assurance,\n",
    "\tCPT_ENV_TYP type_envlp,\n",
    "\tDRG_AFF_NAT nat_destinataire,\n",
    "\tEXO_MTF motif_exo,\n",
    "\tPRS_NAT nat_prestation,\n",
    "\tPRS_PPU_SEC code_secteur,\n",
    "\tPRS_REM_TAU taux_remb,\n",
    "\tPRS_REM_TYP type_remb\"\"\"\n",
    "\n",
    "    union_sql_parts = []\n",
    "\n",
    "    for i in range(1, 13):\n",
    "        union_sql_parts.append(f\"\"\"\n",
    "            SELECT {columns}\n",
    "            FROM raw.A2024{i:02d}\n",
    "        \"\"\")\n",
    "    union_sql = \"\\nUNION ALL\\n\".join(union_sql_parts)\n",
    "\n",
    "    try:\n",
    "        con.execute(f\"\"\"\n",
    "            CREATE OR REPLACE TABLE stg.transactions AS\n",
    "            {union_sql};\n",
    "        \"\"\")\n",
    "        print(\"[✔] Successfully created stg.transactions\")\n",
    "    except Exception as e:\n",
    "        print(f\"[✘] Failed to create stg.transactions: {e}\")\n",
    "\n",
    "    for i in range(1, 13):\n",
    "        try:\n",
    "            con.execute(f\"DROP TABLE IF EXISTS raw.A2024{i:02d};\")\n",
    "            print(f\"[✔] Successfully deleted raw.A2024{i:02d}\")\n",
    "        except Exception as e:\n",
    "            print(f\"[✘] Failed to delete raw.A2024{i:02d}: {e}\")\n"
   ]
  },
  {
   "cell_type": "code",
   "execution_count": 3,
   "id": "bf2575b9",
   "metadata": {},
   "outputs": [
    {
     "name": "stdout",
     "output_type": "stream",
     "text": [
      "[✘] Failed to load A202401.parquet: IO Error: No files found that match the pattern \"C:/Projet/Raw_data/A202401.parquet\"\n",
      "[✘] Failed to load A202402.parquet: IO Error: No files found that match the pattern \"C:/Projet/Raw_data/A202402.parquet\"\n",
      "[✘] Failed to load A202403.parquet: IO Error: No files found that match the pattern \"C:/Projet/Raw_data/A202403.parquet\"\n",
      "[✘] Failed to load A202404.parquet: IO Error: No files found that match the pattern \"C:/Projet/Raw_data/A202404.parquet\"\n",
      "[✘] Failed to load A202405.parquet: IO Error: No files found that match the pattern \"C:/Projet/Raw_data/A202405.parquet\"\n",
      "[✘] Failed to load A202406.parquet: IO Error: No files found that match the pattern \"C:/Projet/Raw_data/A202406.parquet\"\n",
      "[✘] Failed to load A202407.parquet: IO Error: No files found that match the pattern \"C:/Projet/Raw_data/A202407.parquet\"\n",
      "[✘] Failed to load A202408.parquet: IO Error: No files found that match the pattern \"C:/Projet/Raw_data/A202408.parquet\"\n",
      "[✔] Successfully loaded A202409.parquet\n"
     ]
    },
    {
     "data": {
      "application/vnd.jupyter.widget-view+json": {
       "model_id": "400233dcc49c408ca695c2dc703c610e",
       "version_major": 2,
       "version_minor": 0
      },
      "text/plain": [
       "FloatProgress(value=0.0, layout=Layout(width='auto'), style=ProgressStyle(bar_color='black'))"
      ]
     },
     "metadata": {},
     "output_type": "display_data"
    },
    {
     "name": "stdout",
     "output_type": "stream",
     "text": [
      "[✔] Successfully loaded A202410.parquet\n"
     ]
    },
    {
     "data": {
      "application/vnd.jupyter.widget-view+json": {
       "model_id": "6e21efa8678643fcbee2aaedcc142add",
       "version_major": 2,
       "version_minor": 0
      },
      "text/plain": [
       "FloatProgress(value=0.0, layout=Layout(width='auto'), style=ProgressStyle(bar_color='black'))"
      ]
     },
     "metadata": {},
     "output_type": "display_data"
    },
    {
     "name": "stdout",
     "output_type": "stream",
     "text": [
      "[✔] Successfully loaded A202411.parquet\n"
     ]
    },
    {
     "data": {
      "application/vnd.jupyter.widget-view+json": {
       "model_id": "98a29153460d431fa7736b7e0175762f",
       "version_major": 2,
       "version_minor": 0
      },
      "text/plain": [
       "FloatProgress(value=0.0, layout=Layout(width='auto'), style=ProgressStyle(bar_color='black'))"
      ]
     },
     "metadata": {},
     "output_type": "display_data"
    },
    {
     "name": "stdout",
     "output_type": "stream",
     "text": [
      "[✔] Successfully loaded A202412.parquet\n"
     ]
    }
   ],
   "source": [
    "with duckdb.connect(\"projet.db\") as con:\n",
    "    con.execute(\"SET max_memory='8GB';\")\n",
    "    con.execute(\"SET threads=4;\")\n",
    "    con.execute(\"SET enable_progress_bar=1;\")\n",
    "    con.execute(\"SET temp_directory = 'C:/Projet/tmp/';\")\n",
    "    con.execute(\"SET disable_parquet_prefetching = TRUE;\")\n",
    "    con.execute(\"SET parquet_metadata_cache = TRUE;\")\n",
    "    # transform_csv(con)\n",
    "    load_parquet(con)"
   ]
  },
  {
   "cell_type": "code",
   "execution_count": null,
   "id": "0753b9ec",
   "metadata": {},
   "outputs": [
    {
     "data": {
      "application/vnd.jupyter.widget-view+json": {
       "model_id": "2f395941b06943e5ba07eaed836d6987",
       "version_major": 2,
       "version_minor": 0
      },
      "text/plain": [
       "FloatProgress(value=0.0, layout=Layout(width='auto'), style=ProgressStyle(bar_color='black'))"
      ]
     },
     "metadata": {},
     "output_type": "display_data"
    },
    {
     "name": "stdout",
     "output_type": "stream",
     "text": [
      "[✔] Successfully created stg.transactions\n",
      "[✔] Successfully deleted raw.A202401\n",
      "[✔] Successfully deleted raw.A202402\n",
      "[✔] Successfully deleted raw.A202403\n",
      "[✔] Successfully deleted raw.A202404\n",
      "[✔] Successfully deleted raw.A202405\n",
      "[✔] Successfully deleted raw.A202406\n",
      "[✔] Successfully deleted raw.A202407\n",
      "[✔] Successfully deleted raw.A202408\n",
      "[✔] Successfully deleted raw.A202409\n",
      "[✔] Successfully deleted raw.A202410\n",
      "[✔] Successfully deleted raw.A202411\n",
      "[✔] Successfully deleted raw.A202412\n"
     ]
    }
   ],
   "source": [
    "with duckdb.connect(\"projet.db\") as con:\n",
    "    con.execute(\"SET max_memory='8GB';\")\n",
    "    con.execute(\"SET threads=4;\")\n",
    "    con.execute(\"SET enable_progress_bar=1;\")\n",
    "    con.execute(\"SET temp_directory = 'C:/Projet/tmp/';\")\n",
    "    con.execute(\"SET disable_parquet_prefetching = TRUE;\")\n",
    "    con.execute(\"SET parquet_metadata_cache = TRUE;\")\n",
    "    stage(con)"
   ]
  },
  {
   "cell_type": "code",
   "execution_count": null,
   "id": "b0fce681",
   "metadata": {},
   "outputs": [],
   "source": []
  },
  {
   "cell_type": "code",
   "execution_count": 3,
   "id": "4b353010",
   "metadata": {},
   "outputs": [],
   "source": [
    "con = duckdb.connect(\"projet.db\")\n",
    "con.close()"
   ]
  }
 ],
 "metadata": {
  "kernelspec": {
   "display_name": "Python 3",
   "language": "python",
   "name": "python3"
  },
  "language_info": {
   "codemirror_mode": {
    "name": "ipython",
    "version": 3
   },
   "file_extension": ".py",
   "mimetype": "text/x-python",
   "name": "python",
   "nbconvert_exporter": "python",
   "pygments_lexer": "ipython3",
   "version": "3.12.2"
  }
 },
 "nbformat": 4,
 "nbformat_minor": 5
}
