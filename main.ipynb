{
 "cells": [
  {
   "cell_type": "code",
   "execution_count": 2,
   "id": "8dc31069",
   "metadata": {},
   "outputs": [],
   "source": [
    "import duckdb\n",
    "import textwrap\n",
    "\n",
    "\n",
    "def set_attr(con):\n",
    "    con.execute(\"SET max_memory='8GB';\")\n",
    "    con.execute(\"SET threads=4;\")\n",
    "    con.execute(\"SET enable_progress_bar=1;\")\n",
    "    con.execute(\"SET temp_directory = 'C:/Projet/tmp/';\")\n",
    "    con.execute(\"SET disable_parquet_prefetching = TRUE;\")\n",
    "    con.execute(\"SET parquet_metadata_cache = TRUE;\")\n"
   ]
  },
  {
   "cell_type": "code",
   "execution_count": null,
   "id": "bf2575b9",
   "metadata": {},
   "outputs": [
    {
     "data": {
      "application/vnd.jupyter.widget-view+json": {
       "model_id": "1ff80ed2069549c9ac2b9ccd87a4ef22",
       "version_major": 2,
       "version_minor": 0
      },
      "text/plain": [
       "FloatProgress(value=0.0, layout=Layout(width='auto'), style=ProgressStyle(bar_color='black'))"
      ]
     },
     "metadata": {},
     "output_type": "display_data"
    },
    {
     "name": "stdout",
     "output_type": "stream",
     "text": [
      "[✔] Successfully loaded A202401.parquet\n"
     ]
    },
    {
     "data": {
      "application/vnd.jupyter.widget-view+json": {
       "model_id": "219852e35cf9437bb5d17171a313504e",
       "version_major": 2,
       "version_minor": 0
      },
      "text/plain": [
       "FloatProgress(value=0.0, layout=Layout(width='auto'), style=ProgressStyle(bar_color='black'))"
      ]
     },
     "metadata": {},
     "output_type": "display_data"
    },
    {
     "name": "stdout",
     "output_type": "stream",
     "text": [
      "[✔] Successfully loaded A202402.parquet\n"
     ]
    },
    {
     "data": {
      "application/vnd.jupyter.widget-view+json": {
       "model_id": "ba2e1136a89c4a5b8536c8529c8a1c2c",
       "version_major": 2,
       "version_minor": 0
      },
      "text/plain": [
       "FloatProgress(value=0.0, layout=Layout(width='auto'), style=ProgressStyle(bar_color='black'))"
      ]
     },
     "metadata": {},
     "output_type": "display_data"
    },
    {
     "name": "stdout",
     "output_type": "stream",
     "text": [
      "[✔] Successfully loaded A202403.parquet\n"
     ]
    },
    {
     "data": {
      "application/vnd.jupyter.widget-view+json": {
       "model_id": "f8c9ca2ddfd3439282004eae7b532ccf",
       "version_major": 2,
       "version_minor": 0
      },
      "text/plain": [
       "FloatProgress(value=0.0, layout=Layout(width='auto'), style=ProgressStyle(bar_color='black'))"
      ]
     },
     "metadata": {},
     "output_type": "display_data"
    },
    {
     "name": "stdout",
     "output_type": "stream",
     "text": [
      "[✔] Successfully loaded A202404.parquet\n"
     ]
    },
    {
     "data": {
      "application/vnd.jupyter.widget-view+json": {
       "model_id": "34c0d36f6ac44928bd59a6f2c86b0ec9",
       "version_major": 2,
       "version_minor": 0
      },
      "text/plain": [
       "FloatProgress(value=0.0, layout=Layout(width='auto'), style=ProgressStyle(bar_color='black'))"
      ]
     },
     "metadata": {},
     "output_type": "display_data"
    },
    {
     "name": "stdout",
     "output_type": "stream",
     "text": [
      "[✔] Successfully loaded A202405.parquet\n"
     ]
    },
    {
     "data": {
      "application/vnd.jupyter.widget-view+json": {
       "model_id": "62b77ee73bd04d0a8651b46136b6df8f",
       "version_major": 2,
       "version_minor": 0
      },
      "text/plain": [
       "FloatProgress(value=0.0, layout=Layout(width='auto'), style=ProgressStyle(bar_color='black'))"
      ]
     },
     "metadata": {},
     "output_type": "display_data"
    },
    {
     "name": "stdout",
     "output_type": "stream",
     "text": [
      "[✔] Successfully loaded A202406.parquet\n"
     ]
    },
    {
     "data": {
      "application/vnd.jupyter.widget-view+json": {
       "model_id": "98a79cd4222f47548d4454977f6fcfca",
       "version_major": 2,
       "version_minor": 0
      },
      "text/plain": [
       "FloatProgress(value=0.0, layout=Layout(width='auto'), style=ProgressStyle(bar_color='black'))"
      ]
     },
     "metadata": {},
     "output_type": "display_data"
    },
    {
     "name": "stdout",
     "output_type": "stream",
     "text": [
      "[✔] Successfully loaded A202407.parquet\n"
     ]
    },
    {
     "data": {
      "application/vnd.jupyter.widget-view+json": {
       "model_id": "309241d54f7e4c1ba5c45959e29eabf2",
       "version_major": 2,
       "version_minor": 0
      },
      "text/plain": [
       "FloatProgress(value=0.0, layout=Layout(width='auto'), style=ProgressStyle(bar_color='black'))"
      ]
     },
     "metadata": {},
     "output_type": "display_data"
    },
    {
     "name": "stdout",
     "output_type": "stream",
     "text": [
      "[✔] Successfully loaded A202408.parquet\n"
     ]
    },
    {
     "data": {
      "application/vnd.jupyter.widget-view+json": {
       "model_id": "30edb5625e334f55ad01840ef237274a",
       "version_major": 2,
       "version_minor": 0
      },
      "text/plain": [
       "FloatProgress(value=0.0, layout=Layout(width='auto'), style=ProgressStyle(bar_color='black'))"
      ]
     },
     "metadata": {},
     "output_type": "display_data"
    },
    {
     "name": "stdout",
     "output_type": "stream",
     "text": [
      "[✔] Successfully loaded A202409.parquet\n"
     ]
    },
    {
     "data": {
      "application/vnd.jupyter.widget-view+json": {
       "model_id": "35145bbd8ef1463691faa5989aa6ffbf",
       "version_major": 2,
       "version_minor": 0
      },
      "text/plain": [
       "FloatProgress(value=0.0, layout=Layout(width='auto'), style=ProgressStyle(bar_color='black'))"
      ]
     },
     "metadata": {},
     "output_type": "display_data"
    },
    {
     "name": "stdout",
     "output_type": "stream",
     "text": [
      "[✔] Successfully loaded A202410.parquet\n"
     ]
    },
    {
     "data": {
      "application/vnd.jupyter.widget-view+json": {
       "model_id": "40d09c787af8446bac7cf5a47c40668d",
       "version_major": 2,
       "version_minor": 0
      },
      "text/plain": [
       "FloatProgress(value=0.0, layout=Layout(width='auto'), style=ProgressStyle(bar_color='black'))"
      ]
     },
     "metadata": {},
     "output_type": "display_data"
    },
    {
     "name": "stdout",
     "output_type": "stream",
     "text": [
      "[✔] Successfully loaded A202411.parquet\n"
     ]
    },
    {
     "data": {
      "application/vnd.jupyter.widget-view+json": {
       "model_id": "bfa211eea62947d5a208677ea9790e31",
       "version_major": 2,
       "version_minor": 0
      },
      "text/plain": [
       "FloatProgress(value=0.0, layout=Layout(width='auto'), style=ProgressStyle(bar_color='black'))"
      ]
     },
     "metadata": {},
     "output_type": "display_data"
    },
    {
     "name": "stdout",
     "output_type": "stream",
     "text": [
      "[✔] Successfully loaded A202412.parquet\n"
     ]
    }
   ],
   "source": [
    "def transform_csv(con):\n",
    "    con.execute(\"CREATE SCHEMA IF NOT EXISTS raw;\")\n",
    "\n",
    "    for i in range(1, 13):\n",
    "        csv_path = f\"C:/DUCK/Projet_Data/Raw_data/A2024{i:02d}.csv.gz\"\n",
    "        parquet_path = f\"C:/DUCK/Projet_Data/Raw_data/A2024{i:02d}.parquet\"\n",
    "        con.execute(f\"\"\"\n",
    "            COPY (\n",
    "                SELECT * FROM read_csv_auto('{csv_path}')\n",
    "            ) TO '{parquet_path}' (FORMAT PARQUET);\n",
    "        \"\"\")\n",
    "\n",
    "\n",
    "def load_parquet(con):\n",
    "    con.execute(\"CREATE SCHEMA IF NOT EXISTS raw;\")\n",
    "    for i in range(1, 13):\n",
    "        try:\n",
    "            con.execute(f\"\"\"\n",
    "                CREATE TABLE IF NOT EXISTS raw.A2024{i:02d} AS\n",
    "                SELECT * FROM read_parquet('C:/DUCK/Projet_Data/Raw_data/A2024{i:02d}.parquet');\n",
    "            \"\"\")\n",
    "            print(f\"[✔] Successfully loaded A2024{i:02d}.parquet\")\n",
    "        except Exception as e:\n",
    "            print(f\"[✘] Failed to load A2024{i:02d}.parquet: {e}\")\n",
    "\n",
    "\n",
    "with duckdb.connect(\"projet.db\") as con:\n",
    "    set_attr(con)\n",
    "    # transform_csv(con)\n",
    "    load_parquet(con)"
   ]
  },
  {
   "cell_type": "code",
   "execution_count": 55,
   "id": "0753b9ec",
   "metadata": {},
   "outputs": [
    {
     "name": "stdout",
     "output_type": "stream",
     "text": [
      "SELECT\n",
      "    SUM(FLT_DEP_MNT) AS mnt_depassement,\n",
      "    SUM(FLT_PAI_MNT) AS mnt_pay,\n",
      "    SUM(FLT_REM_MNT) AS mnt_rem,\n",
      "    SOI_ANN AS ann_soin,\n",
      "    SOI_MOI AS mois_soin,\n",
      "    AGE_BEN_SNDS AS age,\n",
      "    BEN_RES_REG AS region_ben,\n",
      "    BEN_SEX_COD AS sexe,\n",
      "    ASU_NAT AS nat_assurance,\n",
      "    CPT_ENV_TYP AS type_envlp,\n",
      "    DRG_AFF_NAT AS nat_destinataire,\n",
      "    PRS_FJH_TYP AS forfait_journalier,\n",
      "    PRS_PPU_SEC AS code_secteur,\n",
      "    PRS_REM_TYP AS type_remb\n",
      "FROM raw.A202401\n",
      "GROUP BY ALL\n",
      "UNION ALL\n",
      "SELECT\n",
      "    SUM(FLT_DEP_MNT) AS mnt_depassement,\n",
      "    SUM(FLT_PAI_MNT) AS mnt_pay,\n",
      "    SUM(FLT_REM_MNT) AS mnt_rem,\n",
      "    SOI_ANN AS ann_soin,\n",
      "    SOI_MOI AS mois_soin,\n",
      "    AGE_BEN_SNDS AS age,\n",
      "    BEN_RES_REG AS region_ben,\n",
      "    BEN_SEX_COD AS sexe,\n",
      "    ASU_NAT AS nat_assurance,\n",
      "    CPT_ENV_TYP AS type_envlp,\n",
      "    DRG_AFF_NAT AS nat_destinataire,\n",
      "    PRS_FJH_TYP AS forfait_journalier,\n",
      "    PRS_PPU_SEC AS code_secteur,\n",
      "    PRS_REM_TYP AS type_remb\n",
      "FROM raw.A202402\n",
      "GROUP BY ALL\n",
      "UNION ALL\n",
      "SELECT\n",
      "    SUM(FLT_DEP_MNT) AS mnt_depassement,\n",
      "    SUM(FLT_PAI_MNT) AS mnt_pay,\n",
      "    SUM(FLT_REM_MNT) AS mnt_rem,\n",
      "    SOI_ANN AS ann_soin,\n",
      "    SOI_MOI AS mois_soin,\n",
      "    AGE_BEN_SNDS AS age,\n",
      "    BEN_RES_REG AS region_ben,\n",
      "    BEN_SEX_COD AS sexe,\n",
      "    ASU_NAT AS nat_assurance,\n",
      "    CPT_ENV_TYP AS type_envlp,\n",
      "    DRG_AFF_NAT AS nat_destinataire,\n",
      "    PRS_FJH_TYP AS forfait_journalier,\n",
      "    PRS_PPU_SEC AS code_secteur,\n",
      "    PRS_REM_TYP AS type_remb\n",
      "FROM raw.A202403\n",
      "GROUP BY ALL\n",
      "UNION ALL\n",
      "SELECT\n",
      "    SUM(FLT_DEP_MNT) AS mnt_depassement,\n",
      "    SUM(FLT_PAI_MNT) AS mnt_pay,\n",
      "    SUM(FLT_REM_MNT) AS mnt_rem,\n",
      "    SOI_ANN AS ann_soin,\n",
      "    SOI_MOI AS mois_soin,\n",
      "    AGE_BEN_SNDS AS age,\n",
      "    BEN_RES_REG AS region_ben,\n",
      "    BEN_SEX_COD AS sexe,\n",
      "    ASU_NAT AS nat_assurance,\n",
      "    CPT_ENV_TYP AS type_envlp,\n",
      "    DRG_AFF_NAT AS nat_destinataire,\n",
      "    PRS_FJH_TYP AS forfait_journalier,\n",
      "    PRS_PPU_SEC AS code_secteur,\n",
      "    PRS_REM_TYP AS type_remb\n",
      "FROM raw.A202404\n",
      "GROUP BY ALL\n",
      "UNION ALL\n",
      "SELECT\n",
      "    SUM(FLT_DEP_MNT) AS mnt_depassement,\n",
      "    SUM(FLT_PAI_MNT) AS mnt_pay,\n",
      "    SUM(FLT_REM_MNT) AS mnt_rem,\n",
      "    SOI_ANN AS ann_soin,\n",
      "    SOI_MOI AS mois_soin,\n",
      "    AGE_BEN_SNDS AS age,\n",
      "    BEN_RES_REG AS region_ben,\n",
      "    BEN_SEX_COD AS sexe,\n",
      "    ASU_NAT AS nat_assurance,\n",
      "    CPT_ENV_TYP AS type_envlp,\n",
      "    DRG_AFF_NAT AS nat_destinataire,\n",
      "    PRS_FJH_TYP AS forfait_journalier,\n",
      "    PRS_PPU_SEC AS code_secteur,\n",
      "    PRS_REM_TYP AS type_remb\n",
      "FROM raw.A202405\n",
      "GROUP BY ALL\n",
      "UNION ALL\n",
      "SELECT\n",
      "    SUM(FLT_DEP_MNT) AS mnt_depassement,\n",
      "    SUM(FLT_PAI_MNT) AS mnt_pay,\n",
      "    SUM(FLT_REM_MNT) AS mnt_rem,\n",
      "    SOI_ANN AS ann_soin,\n",
      "    SOI_MOI AS mois_soin,\n",
      "    AGE_BEN_SNDS AS age,\n",
      "    BEN_RES_REG AS region_ben,\n",
      "    BEN_SEX_COD AS sexe,\n",
      "    ASU_NAT AS nat_assurance,\n",
      "    CPT_ENV_TYP AS type_envlp,\n",
      "    DRG_AFF_NAT AS nat_destinataire,\n",
      "    PRS_FJH_TYP AS forfait_journalier,\n",
      "    PRS_PPU_SEC AS code_secteur,\n",
      "    PRS_REM_TYP AS type_remb\n",
      "FROM raw.A202406\n",
      "GROUP BY ALL\n",
      "UNION ALL\n",
      "SELECT\n",
      "    SUM(FLT_DEP_MNT) AS mnt_depassement,\n",
      "    SUM(FLT_PAI_MNT) AS mnt_pay,\n",
      "    SUM(FLT_REM_MNT) AS mnt_rem,\n",
      "    SOI_ANN AS ann_soin,\n",
      "    SOI_MOI AS mois_soin,\n",
      "    AGE_BEN_SNDS AS age,\n",
      "    BEN_RES_REG AS region_ben,\n",
      "    BEN_SEX_COD AS sexe,\n",
      "    ASU_NAT AS nat_assurance,\n",
      "    CPT_ENV_TYP AS type_envlp,\n",
      "    DRG_AFF_NAT AS nat_destinataire,\n",
      "    PRS_FJH_TYP AS forfait_journalier,\n",
      "    PRS_PPU_SEC AS code_secteur,\n",
      "    PRS_REM_TYP AS type_remb\n",
      "FROM raw.A202407\n",
      "GROUP BY ALL\n",
      "UNION ALL\n",
      "SELECT\n",
      "    SUM(FLT_DEP_MNT) AS mnt_depassement,\n",
      "    SUM(FLT_PAI_MNT) AS mnt_pay,\n",
      "    SUM(FLT_REM_MNT) AS mnt_rem,\n",
      "    SOI_ANN AS ann_soin,\n",
      "    SOI_MOI AS mois_soin,\n",
      "    AGE_BEN_SNDS AS age,\n",
      "    BEN_RES_REG AS region_ben,\n",
      "    BEN_SEX_COD AS sexe,\n",
      "    ASU_NAT AS nat_assurance,\n",
      "    CPT_ENV_TYP AS type_envlp,\n",
      "    DRG_AFF_NAT AS nat_destinataire,\n",
      "    PRS_FJH_TYP AS forfait_journalier,\n",
      "    PRS_PPU_SEC AS code_secteur,\n",
      "    PRS_REM_TYP AS type_remb\n",
      "FROM raw.A202408\n",
      "GROUP BY ALL\n",
      "UNION ALL\n",
      "SELECT\n",
      "    SUM(FLT_DEP_MNT) AS mnt_depassement,\n",
      "    SUM(FLT_PAI_MNT) AS mnt_pay,\n",
      "    SUM(FLT_REM_MNT) AS mnt_rem,\n",
      "    SOI_ANN AS ann_soin,\n",
      "    SOI_MOI AS mois_soin,\n",
      "    AGE_BEN_SNDS AS age,\n",
      "    BEN_RES_REG AS region_ben,\n",
      "    BEN_SEX_COD AS sexe,\n",
      "    ASU_NAT AS nat_assurance,\n",
      "    CPT_ENV_TYP AS type_envlp,\n",
      "    DRG_AFF_NAT AS nat_destinataire,\n",
      "    PRS_FJH_TYP AS forfait_journalier,\n",
      "    PRS_PPU_SEC AS code_secteur,\n",
      "    PRS_REM_TYP AS type_remb\n",
      "FROM raw.A202409\n",
      "GROUP BY ALL\n",
      "UNION ALL\n",
      "SELECT\n",
      "    SUM(FLT_DEP_MNT) AS mnt_depassement,\n",
      "    SUM(FLT_PAI_MNT) AS mnt_pay,\n",
      "    SUM(FLT_REM_MNT) AS mnt_rem,\n",
      "    SOI_ANN AS ann_soin,\n",
      "    SOI_MOI AS mois_soin,\n",
      "    AGE_BEN_SNDS AS age,\n",
      "    BEN_RES_REG AS region_ben,\n",
      "    BEN_SEX_COD AS sexe,\n",
      "    ASU_NAT AS nat_assurance,\n",
      "    CPT_ENV_TYP AS type_envlp,\n",
      "    DRG_AFF_NAT AS nat_destinataire,\n",
      "    PRS_FJH_TYP AS forfait_journalier,\n",
      "    PRS_PPU_SEC AS code_secteur,\n",
      "    PRS_REM_TYP AS type_remb\n",
      "FROM raw.A202410\n",
      "GROUP BY ALL\n",
      "UNION ALL\n",
      "SELECT\n",
      "    SUM(FLT_DEP_MNT) AS mnt_depassement,\n",
      "    SUM(FLT_PAI_MNT) AS mnt_pay,\n",
      "    SUM(FLT_REM_MNT) AS mnt_rem,\n",
      "    SOI_ANN AS ann_soin,\n",
      "    SOI_MOI AS mois_soin,\n",
      "    AGE_BEN_SNDS AS age,\n",
      "    BEN_RES_REG AS region_ben,\n",
      "    BEN_SEX_COD AS sexe,\n",
      "    ASU_NAT AS nat_assurance,\n",
      "    CPT_ENV_TYP AS type_envlp,\n",
      "    DRG_AFF_NAT AS nat_destinataire,\n",
      "    PRS_FJH_TYP AS forfait_journalier,\n",
      "    PRS_PPU_SEC AS code_secteur,\n",
      "    PRS_REM_TYP AS type_remb\n",
      "FROM raw.A202411\n",
      "GROUP BY ALL\n",
      "UNION ALL\n",
      "SELECT\n",
      "    SUM(FLT_DEP_MNT) AS mnt_depassement,\n",
      "    SUM(FLT_PAI_MNT) AS mnt_pay,\n",
      "    SUM(FLT_REM_MNT) AS mnt_rem,\n",
      "    SOI_ANN AS ann_soin,\n",
      "    SOI_MOI AS mois_soin,\n",
      "    AGE_BEN_SNDS AS age,\n",
      "    BEN_RES_REG AS region_ben,\n",
      "    BEN_SEX_COD AS sexe,\n",
      "    ASU_NAT AS nat_assurance,\n",
      "    CPT_ENV_TYP AS type_envlp,\n",
      "    DRG_AFF_NAT AS nat_destinataire,\n",
      "    PRS_FJH_TYP AS forfait_journalier,\n",
      "    PRS_PPU_SEC AS code_secteur,\n",
      "    PRS_REM_TYP AS type_remb\n",
      "FROM raw.A202412\n",
      "GROUP BY ALL;\n"
     ]
    }
   ],
   "source": [
    "def stage(column_map, tables):\n",
    "    indent = \" \" * 4\n",
    "    columns = \",\\n\".join(\n",
    "        [f\"{indent}{col} AS {alias}\" for col, alias in column_map.items()]\n",
    "    )\n",
    "    list_sql = [\n",
    "        f\"\"\"SELECT\n",
    "{columns}\n",
    "FROM {table}\n",
    "GROUP BY ALL\"\"\"\n",
    "        for table in tables\n",
    "    ]\n",
    "    sql = \"\\nUNION ALL\\n\".join(list_sql) + \";\"\n",
    "    print(sql)\n",
    "    return sql\n",
    "\n",
    "\n",
    "dict = {\n",
    "    \"SUM(FLT_DEP_MNT)\": \"mnt_depassement\",\n",
    "    \"SUM(FLT_PAI_MNT)\": \"mnt_pay\",\n",
    "    \"SUM(FLT_REM_MNT)\": \"mnt_rem\",\n",
    "    \"SOI_ANN\": \"ann_soin\",\n",
    "    \"SOI_MOI\": \"mois_soin\",\n",
    "    \"AGE_BEN_SNDS\": \"age\",\n",
    "    \"BEN_RES_REG\": \"region_ben\",\n",
    "    \"BEN_SEX_COD\": \"sexe\",\n",
    "    \"ASU_NAT\": \"nat_assurance\",\n",
    "    \"CPT_ENV_TYP\": \"type_envlp\",\n",
    "    \"DRG_AFF_NAT\": \"nat_destinataire\",\n",
    "    \"PRS_FJH_TYP\": \"forfait_journalier\",\n",
    "    \"PRS_PPU_SEC\": \"code_secteur\",\n",
    "    \"PRS_REM_TYP\": \"type_remb\",\n",
    "}\n",
    "\n",
    "tables = [f\"raw.A2024{i:02d}\" for i in range(1, 13)]\n",
    "\n",
    "with open(\"2. staging.sql\", \"w+\") as f:\n",
    "    f.write(\n",
    "        \"CREATE SCHEMA IF NOT EXISTS stg;\\nCREATE OR REPLACE TABLE stg.transactions AS\\n\"\n",
    "    )\n",
    "    f.write(stage(dict, tables))"
   ]
  },
  {
   "cell_type": "code",
   "execution_count": 54,
   "id": "89549072",
   "metadata": {},
   "outputs": [
    {
     "name": "stdout",
     "output_type": "stream",
     "text": [
      "SELECT\n",
      "    'ann_soin' AS column_name,\n",
      "    COUNT(*) AS nb_total,\n",
      "    COUNT(*) FILTER (WHERE ann_soin IN (0, '0001')) AS nb_unutilisable,\n",
      "    ROUND(nb_unutilisable / nb_total, 6) AS pct_unutilisable\n",
      "FROM stg.transactions\n",
      "UNION ALL\n",
      "SELECT\n",
      "    'mois_soin' AS column_name,\n",
      "    COUNT(*) AS nb_total,\n",
      "    COUNT(*) FILTER (WHERE mois_soin = 0) AS nb_unutilisable,\n",
      "    ROUND(nb_unutilisable / nb_total, 6) AS pct_unutilisable\n",
      "FROM stg.transactions\n",
      "UNION ALL\n",
      "SELECT\n",
      "    'age' AS column_name,\n",
      "    COUNT(*) AS nb_total,\n",
      "    COUNT(*) FILTER (WHERE age = 99) AS nb_unutilisable,\n",
      "    ROUND(nb_unutilisable / nb_total, 6) AS pct_unutilisable\n",
      "FROM stg.transactions\n",
      "UNION ALL\n",
      "SELECT\n",
      "    'region_ben' AS column_name,\n",
      "    COUNT(*) AS nb_total,\n",
      "    COUNT(*) FILTER (WHERE region_ben = 99) AS nb_unutilisable,\n",
      "    ROUND(nb_unutilisable / nb_total, 6) AS pct_unutilisable\n",
      "FROM stg.transactions\n",
      "UNION ALL\n",
      "SELECT\n",
      "    'sexe' AS column_name,\n",
      "    COUNT(*) AS nb_total,\n",
      "    COUNT(*) FILTER (WHERE sexe = 99) AS nb_unutilisable,\n",
      "    ROUND(nb_unutilisable / nb_total, 6) AS pct_unutilisable\n",
      "FROM stg.transactions\n",
      "UNION ALL\n",
      "SELECT\n",
      "    'nat_assurance' AS column_name,\n",
      "    COUNT(*) AS nb_total,\n",
      "    COUNT(*) FILTER (WHERE nat_assurance IN (0, 99)) AS nb_unutilisable,\n",
      "    ROUND(nb_unutilisable / nb_total, 6) AS pct_unutilisable\n",
      "FROM stg.transactions\n",
      "UNION ALL\n",
      "SELECT\n",
      "    'type_envlp' AS column_name,\n",
      "    COUNT(*) AS nb_total,\n",
      "    COUNT(*) FILTER (WHERE type_envlp IN (9, 98)) AS nb_unutilisable,\n",
      "    ROUND(nb_unutilisable / nb_total, 6) AS pct_unutilisable\n",
      "FROM stg.transactions\n",
      "UNION ALL\n",
      "SELECT\n",
      "    'nat_destinataire' AS column_name,\n",
      "    COUNT(*) AS nb_total,\n",
      "    COUNT(*) FILTER (WHERE nat_destinataire IN (0, 99)) AS nb_unutilisable,\n",
      "    ROUND(nb_unutilisable / nb_total, 6) AS pct_unutilisable\n",
      "FROM stg.transactions\n",
      "UNION ALL\n",
      "SELECT\n",
      "    'code_secteur' AS column_name,\n",
      "    COUNT(*) AS nb_total,\n",
      "    COUNT(*) FILTER (WHERE code_secteur = 9) AS nb_unutilisable,\n",
      "    ROUND(nb_unutilisable / nb_total, 6) AS pct_unutilisable\n",
      "FROM stg.transactions\n",
      "UNION ALL\n",
      "SELECT\n",
      "    'type_remb' AS column_name,\n",
      "    COUNT(*) AS nb_total,\n",
      "    COUNT(*) FILTER (WHERE type_remb = 99) AS nb_unutilisable,\n",
      "    ROUND(nb_unutilisable / nb_total, 6) AS pct_unutilisable\n",
      "FROM stg.transactions\n",
      "UNION ALL\n",
      "SELECT\n",
      "    'forfait_journalier' AS column_name,\n",
      "    COUNT(*) AS nb_total,\n",
      "    COUNT(*) FILTER (WHERE forfait_journalier IN (8, 9)) AS nb_unutilisable,\n",
      "    ROUND(nb_unutilisable / nb_total, 6) AS pct_unutilisable\n",
      "FROM stg.transactions\n",
      "ORDER BY column_name;\n"
     ]
    }
   ],
   "source": [
    "def exploratoire(dict, stg_table):\n",
    "    list_sql = [\n",
    "        textwrap.dedent(f\"\"\"\n",
    "        SELECT\n",
    "            '{column}' AS column_name,\n",
    "            COUNT(*) AS nb_total,\n",
    "            COUNT(*) FILTER (WHERE {column} {f\"= {value}\" if isinstance(value, int) else f\"IN {value}\"}) AS nb_unutilisable,\n",
    "            ROUND(nb_unutilisable / nb_total, 6) AS pct_unutilisable\n",
    "        FROM {stg_table}\"\"\")\n",
    "        for column, value in dict.items()\n",
    "    ]\n",
    "    sql = \"\\nUNION ALL\".join(list_sql) + \"\\nORDER BY column_name;\"\n",
    "    print(sql.strip())\n",
    "    return sql.strip()\n",
    "\n",
    "\n",
    "dict = {\n",
    "    \"ann_soin\": (0000, \"0001\"),\n",
    "    \"mois_soin\": (00),\n",
    "    \"age\": (99),\n",
    "    \"region_ben\": (99),\n",
    "    \"sexe\": (99),\n",
    "    \"nat_assurance\": (0, 99),\n",
    "    \"type_envlp\": (9, 98),\n",
    "    \"nat_destinataire\": (0, 99),\n",
    "    \"code_secteur\": (9),\n",
    "    \"type_remb\": (99),\n",
    "    \"forfait_journalier\": (8, 9),\n",
    "}\n",
    "with open(\"2. exploratoire.sql\", \"w+\") as f:\n",
    "    f.write(exploratoire(dict, \"stg.transactions\"))"
   ]
  },
  {
   "cell_type": "code",
   "execution_count": null,
   "id": "b0fce681",
   "metadata": {},
   "outputs": [
    {
     "data": {
      "application/vnd.jupyter.widget-view+json": {
       "model_id": "ae0fbc3f5c8b448dabca0aadcdcfd39d",
       "version_major": 2,
       "version_minor": 0
      },
      "text/plain": [
       "FloatProgress(value=0.0, layout=Layout(width='auto'), style=ProgressStyle(bar_color='black'))"
      ]
     },
     "metadata": {},
     "output_type": "display_data"
    },
    {
     "name": "stdout",
     "output_type": "stream",
     "text": [
      "[✔] Successfully created stg.transactions_libelles\n"
     ]
    }
   ],
   "source": [
    "def transform(con):\n",
    "    with open(\"type_donnee.sql\", \"r\") as file:\n",
    "        sql_script = file.read()\n",
    "        try:\n",
    "            con.execute(sql_script)\n",
    "            print(\"[✔] Successfully created stg.transactions_libelles\")\n",
    "        except Exception as e:\n",
    "            print(f\"[✘] Failed to create stg.transactions_libelles: {e}\")\n",
    "\n",
    "\n",
    "with duckdb.connect(\"projet.db\") as con:\n",
    "    set_attr(con)\n",
    "    transform(con)"
   ]
  },
  {
   "cell_type": "code",
   "execution_count": null,
   "id": "92e9eb7b",
   "metadata": {},
   "outputs": [
    {
     "data": {
      "application/vnd.jupyter.widget-view+json": {
       "model_id": "12ee229911ee4ebcad51b9399bbc4877",
       "version_major": 2,
       "version_minor": 0
      },
      "text/plain": [
       "FloatProgress(value=0.0, layout=Layout(width='auto'), style=ProgressStyle(bar_color='black'))"
      ]
     },
     "metadata": {},
     "output_type": "display_data"
    }
   ],
   "source": [
    "def dwh(con):\n",
    "    with open(\"3. dwh.sql\", \"r\") as file:\n",
    "        sql_script = file.read()\n",
    "        try:\n",
    "            con.execute(sql_script)\n",
    "            print(\"[✔] Successfully created dwh\")\n",
    "        except Exception as e:\n",
    "            print(f\"[✘] Failed to create dwh: {e}\")\n",
    "\n",
    "\n",
    "with duckdb.connect(\"projet.db\") as con:\n",
    "    set_attr(con)\n",
    "    dwh(con)"
   ]
  },
  {
   "cell_type": "code",
   "execution_count": 3,
   "id": "4b353010",
   "metadata": {},
   "outputs": [],
   "source": [
    "con = duckdb.connect(\"projet.db\")\n",
    "con.close()"
   ]
  }
 ],
 "metadata": {
  "kernelspec": {
   "display_name": "Python 3",
   "language": "python",
   "name": "python3"
  },
  "language_info": {
   "codemirror_mode": {
    "name": "ipython",
    "version": 3
   },
   "file_extension": ".py",
   "mimetype": "text/x-python",
   "name": "python",
   "nbconvert_exporter": "python",
   "pygments_lexer": "ipython3",
   "version": "3.12.2"
  }
 },
 "nbformat": 4,
 "nbformat_minor": 5
}
